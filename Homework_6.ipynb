{
  "nbformat": 4,
  "nbformat_minor": 0,
  "metadata": {
    "colab": {
      "provenance": []
    },
    "kernelspec": {
      "name": "python3",
      "display_name": "Python 3"
    },
    "language_info": {
      "name": "python"
    }
  },
  "cells": [
    {
      "cell_type": "code",
      "execution_count": 1,
      "metadata": {
        "id": "rwHePixkeC5k"
      },
      "outputs": [],
      "source": [
        "import pandas as pd\n",
        "import matplotlib.pyplot as plt\n",
        "import seaborn as sns"
      ]
    },
    {
      "cell_type": "code",
      "source": [
        "#Untuk Google Colab :\n",
        "from google.colab import drive\n",
        "drive.mount('/content/drive', force_remount=True)\n",
        "file = '/content/drive/MyDrive/GoogleColab/cust_seg.csv'\n",
        "df = pd.read_csv(file)"
      ],
      "metadata": {
        "colab": {
          "base_uri": "https://localhost:8080/"
        },
        "id": "L1AybISeCdA1",
        "outputId": "95c85d65-00e5-4376-df2a-a0fb0bde24de"
      },
      "execution_count": 2,
      "outputs": [
        {
          "output_type": "stream",
          "name": "stdout",
          "text": [
            "Mounted at /content/drive\n"
          ]
        }
      ]
    },
    {
      "cell_type": "code",
      "source": [
        "file_path = '/content/drive/MyDrive/GoogleColab/cust_seg.csv'\n",
        "df = pd.read_csv(file_path)\n",
        "print(df.head())"
      ],
      "metadata": {
        "colab": {
          "base_uri": "https://localhost:8080/"
        },
        "id": "dPI2AU2xES0Z",
        "outputId": "dc53d9b3-6f18-40d9-f017-d2e8319b2b79"
      },
      "execution_count": 5,
      "outputs": [
        {
          "output_type": "stream",
          "name": "stdout",
          "text": [
            "   custid  sex  AqChannel  region  Marital_status  segment  pre_usage  \\\n",
            "0      70    0          4       1               1        1         57   \n",
            "1     121    1          4       2               1        3         68   \n",
            "2      86    0          4       3               1        1         44   \n",
            "3     141    0          4       3               1        3         63   \n",
            "4     172    0          4       2               1        2         47   \n",
            "\n",
            "   Post_usage_1month  Latest_mon_usage  post_usage_2ndmonth  \n",
            "0                 52              49.2                 57.2  \n",
            "1                 59              63.6                 64.9  \n",
            "2                 33              64.8                 36.3  \n",
            "3                 44              56.4                 48.4  \n",
            "4                 52              68.4                 57.2  \n"
          ]
        }
      ]
    },
    {
      "cell_type": "code",
      "source": [
        "df.info()"
      ],
      "metadata": {
        "colab": {
          "base_uri": "https://localhost:8080/"
        },
        "id": "Px2S4venErT8",
        "outputId": "2b95d677-82b9-4461-8b6e-47aba7225e68"
      },
      "execution_count": 6,
      "outputs": [
        {
          "output_type": "stream",
          "name": "stdout",
          "text": [
            "<class 'pandas.core.frame.DataFrame'>\n",
            "RangeIndex: 200 entries, 0 to 199\n",
            "Data columns (total 10 columns):\n",
            " #   Column               Non-Null Count  Dtype  \n",
            "---  ------               --------------  -----  \n",
            " 0   custid               200 non-null    int64  \n",
            " 1   sex                  200 non-null    int64  \n",
            " 2   AqChannel            200 non-null    int64  \n",
            " 3   region               200 non-null    int64  \n",
            " 4   Marital_status       200 non-null    int64  \n",
            " 5   segment              200 non-null    int64  \n",
            " 6   pre_usage            200 non-null    int64  \n",
            " 7   Post_usage_1month    200 non-null    int64  \n",
            " 8   Latest_mon_usage     200 non-null    float64\n",
            " 9   post_usage_2ndmonth  200 non-null    float64\n",
            "dtypes: float64(2), int64(8)\n",
            "memory usage: 15.8 KB\n"
          ]
        }
      ]
    },
    {
      "cell_type": "code",
      "source": [
        "df.describe()"
      ],
      "metadata": {
        "colab": {
          "base_uri": "https://localhost:8080/",
          "height": 300
        },
        "id": "QRZX3tndEuW8",
        "outputId": "7c60e887-ff71-436c-e347-9cc3ec76b6d8"
      },
      "execution_count": 7,
      "outputs": [
        {
          "output_type": "execute_result",
          "data": {
            "text/plain": [
              "           custid        sex   AqChannel      region  Marital_status  \\\n",
              "count  200.000000  200.00000  200.000000  200.000000      200.000000   \n",
              "mean   100.500000    0.54500    3.430000    2.055000        1.160000   \n",
              "std     57.879185    0.49922    1.039472    0.724291        0.367526   \n",
              "min      1.000000    0.00000    1.000000    1.000000        1.000000   \n",
              "25%     50.750000    0.00000    3.000000    2.000000        1.000000   \n",
              "50%    100.500000    1.00000    4.000000    2.000000        1.000000   \n",
              "75%    150.250000    1.00000    4.000000    3.000000        1.000000   \n",
              "max    200.000000    1.00000    4.000000    3.000000        2.000000   \n",
              "\n",
              "          segment   pre_usage  Post_usage_1month  Latest_mon_usage  \\\n",
              "count  200.000000  200.000000         200.000000        200.000000   \n",
              "mean     2.025000   52.230000          52.775000         63.174000   \n",
              "std      0.690477   10.252937           9.478586         11.242137   \n",
              "min      1.000000   28.000000          31.000000         39.600000   \n",
              "25%      2.000000   44.000000          45.750000         54.000000   \n",
              "50%      2.000000   50.000000          54.000000         62.400000   \n",
              "75%      2.250000   60.000000          60.000000         70.800000   \n",
              "max      3.000000   76.000000          67.000000         90.000000   \n",
              "\n",
              "       post_usage_2ndmonth  \n",
              "count           200.000000  \n",
              "mean             58.052500  \n",
              "std              10.426445  \n",
              "min              34.100000  \n",
              "25%              50.325000  \n",
              "50%              59.400000  \n",
              "75%              66.000000  \n",
              "max              73.700000  "
            ],
            "text/html": [
              "\n",
              "  <div id=\"df-91740fb1-23e0-4feb-b47a-a339177162ec\" class=\"colab-df-container\">\n",
              "    <div>\n",
              "<style scoped>\n",
              "    .dataframe tbody tr th:only-of-type {\n",
              "        vertical-align: middle;\n",
              "    }\n",
              "\n",
              "    .dataframe tbody tr th {\n",
              "        vertical-align: top;\n",
              "    }\n",
              "\n",
              "    .dataframe thead th {\n",
              "        text-align: right;\n",
              "    }\n",
              "</style>\n",
              "<table border=\"1\" class=\"dataframe\">\n",
              "  <thead>\n",
              "    <tr style=\"text-align: right;\">\n",
              "      <th></th>\n",
              "      <th>custid</th>\n",
              "      <th>sex</th>\n",
              "      <th>AqChannel</th>\n",
              "      <th>region</th>\n",
              "      <th>Marital_status</th>\n",
              "      <th>segment</th>\n",
              "      <th>pre_usage</th>\n",
              "      <th>Post_usage_1month</th>\n",
              "      <th>Latest_mon_usage</th>\n",
              "      <th>post_usage_2ndmonth</th>\n",
              "    </tr>\n",
              "  </thead>\n",
              "  <tbody>\n",
              "    <tr>\n",
              "      <th>count</th>\n",
              "      <td>200.000000</td>\n",
              "      <td>200.00000</td>\n",
              "      <td>200.000000</td>\n",
              "      <td>200.000000</td>\n",
              "      <td>200.000000</td>\n",
              "      <td>200.000000</td>\n",
              "      <td>200.000000</td>\n",
              "      <td>200.000000</td>\n",
              "      <td>200.000000</td>\n",
              "      <td>200.000000</td>\n",
              "    </tr>\n",
              "    <tr>\n",
              "      <th>mean</th>\n",
              "      <td>100.500000</td>\n",
              "      <td>0.54500</td>\n",
              "      <td>3.430000</td>\n",
              "      <td>2.055000</td>\n",
              "      <td>1.160000</td>\n",
              "      <td>2.025000</td>\n",
              "      <td>52.230000</td>\n",
              "      <td>52.775000</td>\n",
              "      <td>63.174000</td>\n",
              "      <td>58.052500</td>\n",
              "    </tr>\n",
              "    <tr>\n",
              "      <th>std</th>\n",
              "      <td>57.879185</td>\n",
              "      <td>0.49922</td>\n",
              "      <td>1.039472</td>\n",
              "      <td>0.724291</td>\n",
              "      <td>0.367526</td>\n",
              "      <td>0.690477</td>\n",
              "      <td>10.252937</td>\n",
              "      <td>9.478586</td>\n",
              "      <td>11.242137</td>\n",
              "      <td>10.426445</td>\n",
              "    </tr>\n",
              "    <tr>\n",
              "      <th>min</th>\n",
              "      <td>1.000000</td>\n",
              "      <td>0.00000</td>\n",
              "      <td>1.000000</td>\n",
              "      <td>1.000000</td>\n",
              "      <td>1.000000</td>\n",
              "      <td>1.000000</td>\n",
              "      <td>28.000000</td>\n",
              "      <td>31.000000</td>\n",
              "      <td>39.600000</td>\n",
              "      <td>34.100000</td>\n",
              "    </tr>\n",
              "    <tr>\n",
              "      <th>25%</th>\n",
              "      <td>50.750000</td>\n",
              "      <td>0.00000</td>\n",
              "      <td>3.000000</td>\n",
              "      <td>2.000000</td>\n",
              "      <td>1.000000</td>\n",
              "      <td>2.000000</td>\n",
              "      <td>44.000000</td>\n",
              "      <td>45.750000</td>\n",
              "      <td>54.000000</td>\n",
              "      <td>50.325000</td>\n",
              "    </tr>\n",
              "    <tr>\n",
              "      <th>50%</th>\n",
              "      <td>100.500000</td>\n",
              "      <td>1.00000</td>\n",
              "      <td>4.000000</td>\n",
              "      <td>2.000000</td>\n",
              "      <td>1.000000</td>\n",
              "      <td>2.000000</td>\n",
              "      <td>50.000000</td>\n",
              "      <td>54.000000</td>\n",
              "      <td>62.400000</td>\n",
              "      <td>59.400000</td>\n",
              "    </tr>\n",
              "    <tr>\n",
              "      <th>75%</th>\n",
              "      <td>150.250000</td>\n",
              "      <td>1.00000</td>\n",
              "      <td>4.000000</td>\n",
              "      <td>3.000000</td>\n",
              "      <td>1.000000</td>\n",
              "      <td>2.250000</td>\n",
              "      <td>60.000000</td>\n",
              "      <td>60.000000</td>\n",
              "      <td>70.800000</td>\n",
              "      <td>66.000000</td>\n",
              "    </tr>\n",
              "    <tr>\n",
              "      <th>max</th>\n",
              "      <td>200.000000</td>\n",
              "      <td>1.00000</td>\n",
              "      <td>4.000000</td>\n",
              "      <td>3.000000</td>\n",
              "      <td>2.000000</td>\n",
              "      <td>3.000000</td>\n",
              "      <td>76.000000</td>\n",
              "      <td>67.000000</td>\n",
              "      <td>90.000000</td>\n",
              "      <td>73.700000</td>\n",
              "    </tr>\n",
              "  </tbody>\n",
              "</table>\n",
              "</div>\n",
              "    <div class=\"colab-df-buttons\">\n",
              "\n",
              "  <div class=\"colab-df-container\">\n",
              "    <button class=\"colab-df-convert\" onclick=\"convertToInteractive('df-91740fb1-23e0-4feb-b47a-a339177162ec')\"\n",
              "            title=\"Convert this dataframe to an interactive table.\"\n",
              "            style=\"display:none;\">\n",
              "\n",
              "  <svg xmlns=\"http://www.w3.org/2000/svg\" height=\"24px\" viewBox=\"0 -960 960 960\">\n",
              "    <path d=\"M120-120v-720h720v720H120Zm60-500h600v-160H180v160Zm220 220h160v-160H400v160Zm0 220h160v-160H400v160ZM180-400h160v-160H180v160Zm440 0h160v-160H620v160ZM180-180h160v-160H180v160Zm440 0h160v-160H620v160Z\"/>\n",
              "  </svg>\n",
              "    </button>\n",
              "\n",
              "  <style>\n",
              "    .colab-df-container {\n",
              "      display:flex;\n",
              "      gap: 12px;\n",
              "    }\n",
              "\n",
              "    .colab-df-convert {\n",
              "      background-color: #E8F0FE;\n",
              "      border: none;\n",
              "      border-radius: 50%;\n",
              "      cursor: pointer;\n",
              "      display: none;\n",
              "      fill: #1967D2;\n",
              "      height: 32px;\n",
              "      padding: 0 0 0 0;\n",
              "      width: 32px;\n",
              "    }\n",
              "\n",
              "    .colab-df-convert:hover {\n",
              "      background-color: #E2EBFA;\n",
              "      box-shadow: 0px 1px 2px rgba(60, 64, 67, 0.3), 0px 1px 3px 1px rgba(60, 64, 67, 0.15);\n",
              "      fill: #174EA6;\n",
              "    }\n",
              "\n",
              "    .colab-df-buttons div {\n",
              "      margin-bottom: 4px;\n",
              "    }\n",
              "\n",
              "    [theme=dark] .colab-df-convert {\n",
              "      background-color: #3B4455;\n",
              "      fill: #D2E3FC;\n",
              "    }\n",
              "\n",
              "    [theme=dark] .colab-df-convert:hover {\n",
              "      background-color: #434B5C;\n",
              "      box-shadow: 0px 1px 3px 1px rgba(0, 0, 0, 0.15);\n",
              "      filter: drop-shadow(0px 1px 2px rgba(0, 0, 0, 0.3));\n",
              "      fill: #FFFFFF;\n",
              "    }\n",
              "  </style>\n",
              "\n",
              "    <script>\n",
              "      const buttonEl =\n",
              "        document.querySelector('#df-91740fb1-23e0-4feb-b47a-a339177162ec button.colab-df-convert');\n",
              "      buttonEl.style.display =\n",
              "        google.colab.kernel.accessAllowed ? 'block' : 'none';\n",
              "\n",
              "      async function convertToInteractive(key) {\n",
              "        const element = document.querySelector('#df-91740fb1-23e0-4feb-b47a-a339177162ec');\n",
              "        const dataTable =\n",
              "          await google.colab.kernel.invokeFunction('convertToInteractive',\n",
              "                                                    [key], {});\n",
              "        if (!dataTable) return;\n",
              "\n",
              "        const docLinkHtml = 'Like what you see? Visit the ' +\n",
              "          '<a target=\"_blank\" href=https://colab.research.google.com/notebooks/data_table.ipynb>data table notebook</a>'\n",
              "          + ' to learn more about interactive tables.';\n",
              "        element.innerHTML = '';\n",
              "        dataTable['output_type'] = 'display_data';\n",
              "        await google.colab.output.renderOutput(dataTable, element);\n",
              "        const docLink = document.createElement('div');\n",
              "        docLink.innerHTML = docLinkHtml;\n",
              "        element.appendChild(docLink);\n",
              "      }\n",
              "    </script>\n",
              "  </div>\n",
              "\n",
              "\n",
              "<div id=\"df-a936482a-0f8b-4a0b-b912-2f6baba00baf\">\n",
              "  <button class=\"colab-df-quickchart\" onclick=\"quickchart('df-a936482a-0f8b-4a0b-b912-2f6baba00baf')\"\n",
              "            title=\"Suggest charts\"\n",
              "            style=\"display:none;\">\n",
              "\n",
              "<svg xmlns=\"http://www.w3.org/2000/svg\" height=\"24px\"viewBox=\"0 0 24 24\"\n",
              "     width=\"24px\">\n",
              "    <g>\n",
              "        <path d=\"M19 3H5c-1.1 0-2 .9-2 2v14c0 1.1.9 2 2 2h14c1.1 0 2-.9 2-2V5c0-1.1-.9-2-2-2zM9 17H7v-7h2v7zm4 0h-2V7h2v10zm4 0h-2v-4h2v4z\"/>\n",
              "    </g>\n",
              "</svg>\n",
              "  </button>\n",
              "\n",
              "<style>\n",
              "  .colab-df-quickchart {\n",
              "      --bg-color: #E8F0FE;\n",
              "      --fill-color: #1967D2;\n",
              "      --hover-bg-color: #E2EBFA;\n",
              "      --hover-fill-color: #174EA6;\n",
              "      --disabled-fill-color: #AAA;\n",
              "      --disabled-bg-color: #DDD;\n",
              "  }\n",
              "\n",
              "  [theme=dark] .colab-df-quickchart {\n",
              "      --bg-color: #3B4455;\n",
              "      --fill-color: #D2E3FC;\n",
              "      --hover-bg-color: #434B5C;\n",
              "      --hover-fill-color: #FFFFFF;\n",
              "      --disabled-bg-color: #3B4455;\n",
              "      --disabled-fill-color: #666;\n",
              "  }\n",
              "\n",
              "  .colab-df-quickchart {\n",
              "    background-color: var(--bg-color);\n",
              "    border: none;\n",
              "    border-radius: 50%;\n",
              "    cursor: pointer;\n",
              "    display: none;\n",
              "    fill: var(--fill-color);\n",
              "    height: 32px;\n",
              "    padding: 0;\n",
              "    width: 32px;\n",
              "  }\n",
              "\n",
              "  .colab-df-quickchart:hover {\n",
              "    background-color: var(--hover-bg-color);\n",
              "    box-shadow: 0 1px 2px rgba(60, 64, 67, 0.3), 0 1px 3px 1px rgba(60, 64, 67, 0.15);\n",
              "    fill: var(--button-hover-fill-color);\n",
              "  }\n",
              "\n",
              "  .colab-df-quickchart-complete:disabled,\n",
              "  .colab-df-quickchart-complete:disabled:hover {\n",
              "    background-color: var(--disabled-bg-color);\n",
              "    fill: var(--disabled-fill-color);\n",
              "    box-shadow: none;\n",
              "  }\n",
              "\n",
              "  .colab-df-spinner {\n",
              "    border: 2px solid var(--fill-color);\n",
              "    border-color: transparent;\n",
              "    border-bottom-color: var(--fill-color);\n",
              "    animation:\n",
              "      spin 1s steps(1) infinite;\n",
              "  }\n",
              "\n",
              "  @keyframes spin {\n",
              "    0% {\n",
              "      border-color: transparent;\n",
              "      border-bottom-color: var(--fill-color);\n",
              "      border-left-color: var(--fill-color);\n",
              "    }\n",
              "    20% {\n",
              "      border-color: transparent;\n",
              "      border-left-color: var(--fill-color);\n",
              "      border-top-color: var(--fill-color);\n",
              "    }\n",
              "    30% {\n",
              "      border-color: transparent;\n",
              "      border-left-color: var(--fill-color);\n",
              "      border-top-color: var(--fill-color);\n",
              "      border-right-color: var(--fill-color);\n",
              "    }\n",
              "    40% {\n",
              "      border-color: transparent;\n",
              "      border-right-color: var(--fill-color);\n",
              "      border-top-color: var(--fill-color);\n",
              "    }\n",
              "    60% {\n",
              "      border-color: transparent;\n",
              "      border-right-color: var(--fill-color);\n",
              "    }\n",
              "    80% {\n",
              "      border-color: transparent;\n",
              "      border-right-color: var(--fill-color);\n",
              "      border-bottom-color: var(--fill-color);\n",
              "    }\n",
              "    90% {\n",
              "      border-color: transparent;\n",
              "      border-bottom-color: var(--fill-color);\n",
              "    }\n",
              "  }\n",
              "</style>\n",
              "\n",
              "  <script>\n",
              "    async function quickchart(key) {\n",
              "      const quickchartButtonEl =\n",
              "        document.querySelector('#' + key + ' button');\n",
              "      quickchartButtonEl.disabled = true;  // To prevent multiple clicks.\n",
              "      quickchartButtonEl.classList.add('colab-df-spinner');\n",
              "      try {\n",
              "        const charts = await google.colab.kernel.invokeFunction(\n",
              "            'suggestCharts', [key], {});\n",
              "      } catch (error) {\n",
              "        console.error('Error during call to suggestCharts:', error);\n",
              "      }\n",
              "      quickchartButtonEl.classList.remove('colab-df-spinner');\n",
              "      quickchartButtonEl.classList.add('colab-df-quickchart-complete');\n",
              "    }\n",
              "    (() => {\n",
              "      let quickchartButtonEl =\n",
              "        document.querySelector('#df-a936482a-0f8b-4a0b-b912-2f6baba00baf button');\n",
              "      quickchartButtonEl.style.display =\n",
              "        google.colab.kernel.accessAllowed ? 'block' : 'none';\n",
              "    })();\n",
              "  </script>\n",
              "</div>\n",
              "\n",
              "    </div>\n",
              "  </div>\n"
            ],
            "application/vnd.google.colaboratory.intrinsic+json": {
              "type": "dataframe",
              "summary": "{\n  \"name\": \"df\",\n  \"rows\": 8,\n  \"fields\": [\n    {\n      \"column\": \"custid\",\n      \"properties\": {\n        \"dtype\": \"number\",\n        \"std\": 71.77644232399086,\n        \"min\": 1.0,\n        \"max\": 200.0,\n        \"num_unique_values\": 6,\n        \"samples\": [\n          200.0,\n          100.5,\n          150.25\n        ],\n        \"semantic_type\": \"\",\n        \"description\": \"\"\n      }\n    },\n    {\n      \"column\": \"sex\",\n      \"properties\": {\n        \"dtype\": \"number\",\n        \"std\": 70.50763966335327,\n        \"min\": 0.0,\n        \"max\": 200.0,\n        \"num_unique_values\": 5,\n        \"samples\": [\n          0.545,\n          1.0,\n          0.4992204979041217\n        ],\n        \"semantic_type\": \"\",\n        \"description\": \"\"\n      }\n    },\n    {\n      \"column\": \"AqChannel\",\n      \"properties\": {\n        \"dtype\": \"number\",\n        \"std\": 69.68807735643657,\n        \"min\": 1.0,\n        \"max\": 200.0,\n        \"num_unique_values\": 6,\n        \"samples\": [\n          200.0,\n          3.43,\n          4.0\n        ],\n        \"semantic_type\": \"\",\n        \"description\": \"\"\n      }\n    },\n    {\n      \"column\": \"region\",\n      \"properties\": {\n        \"dtype\": \"number\",\n        \"std\": 70.01943551166941,\n        \"min\": 0.7242913708927833,\n        \"max\": 200.0,\n        \"num_unique_values\": 6,\n        \"samples\": [\n          200.0,\n          2.055,\n          3.0\n        ],\n        \"semantic_type\": \"\",\n        \"description\": \"\"\n      }\n    },\n    {\n      \"column\": \"Marital_status\",\n      \"properties\": {\n        \"dtype\": \"number\",\n        \"std\": 70.33188813279992,\n        \"min\": 0.36752602205071494,\n        \"max\": 200.0,\n        \"num_unique_values\": 5,\n        \"samples\": [\n          1.16,\n          2.0,\n          0.36752602205071494\n        ],\n        \"semantic_type\": \"\",\n        \"description\": \"\"\n      }\n    },\n    {\n      \"column\": \"segment\",\n      \"properties\": {\n        \"dtype\": \"number\",\n        \"std\": 70.0595186484318,\n        \"min\": 0.6904772219051464,\n        \"max\": 200.0,\n        \"num_unique_values\": 7,\n        \"samples\": [\n          200.0,\n          2.025,\n          2.25\n        ],\n        \"semantic_type\": \"\",\n        \"description\": \"\"\n      }\n    },\n    {\n      \"column\": \"pre_usage\",\n      \"properties\": {\n        \"dtype\": \"number\",\n        \"std\": 58.022513700198225,\n        \"min\": 10.25293682648241,\n        \"max\": 200.0,\n        \"num_unique_values\": 8,\n        \"samples\": [\n          52.23,\n          50.0,\n          200.0\n        ],\n        \"semantic_type\": \"\",\n        \"description\": \"\"\n      }\n    },\n    {\n      \"column\": \"Post_usage_1month\",\n      \"properties\": {\n        \"dtype\": \"number\",\n        \"std\": 57.487440284909354,\n        \"min\": 9.478586021386526,\n        \"max\": 200.0,\n        \"num_unique_values\": 8,\n        \"samples\": [\n          52.775,\n          54.0,\n          200.0\n        ],\n        \"semantic_type\": \"\",\n        \"description\": \"\"\n      }\n    },\n    {\n      \"column\": \"Latest_mon_usage\",\n      \"properties\": {\n        \"dtype\": \"number\",\n        \"std\": 55.953851897219714,\n        \"min\": 11.242137352892753,\n        \"max\": 200.0,\n        \"num_unique_values\": 8,\n        \"samples\": [\n          63.174,\n          62.4,\n          200.0\n        ],\n        \"semantic_type\": \"\",\n        \"description\": \"\"\n      }\n    },\n    {\n      \"column\": \"post_usage_2ndmonth\",\n      \"properties\": {\n        \"dtype\": \"number\",\n        \"std\": 56.57072030242444,\n        \"min\": 10.426444623525182,\n        \"max\": 200.0,\n        \"num_unique_values\": 8,\n        \"samples\": [\n          58.0525,\n          59.4,\n          200.0\n        ],\n        \"semantic_type\": \"\",\n        \"description\": \"\"\n      }\n    }\n  ]\n}"
            }
          },
          "metadata": {},
          "execution_count": 7
        }
      ]
    },
    {
      "cell_type": "code",
      "source": [
        "print(df.isnull().sum())"
      ],
      "metadata": {
        "colab": {
          "base_uri": "https://localhost:8080/"
        },
        "id": "8MlMUshHEyPq",
        "outputId": "bc9e66f8-99d7-476b-a2f9-a228b720c03d"
      },
      "execution_count": 8,
      "outputs": [
        {
          "output_type": "stream",
          "name": "stdout",
          "text": [
            "custid                 0\n",
            "sex                    0\n",
            "AqChannel              0\n",
            "region                 0\n",
            "Marital_status         0\n",
            "segment                0\n",
            "pre_usage              0\n",
            "Post_usage_1month      0\n",
            "Latest_mon_usage       0\n",
            "post_usage_2ndmonth    0\n",
            "dtype: int64\n"
          ]
        }
      ]
    },
    {
      "cell_type": "code",
      "source": [
        "#no.1b\n",
        "df[['pre_usage', 'Post_usage_1month', 'Latest_mon_usage', 'post_usage_2ndmonth']].hist(bins=20, figsize=(10, 8))\n",
        "plt.suptitle(\"Histogram Penggunaan Kartu Kredit\")\n",
        "plt.show()"
      ],
      "metadata": {
        "colab": {
          "base_uri": "https://localhost:8080/",
          "height": 756
        },
        "id": "Nr_2CSc7E3_4",
        "outputId": "cfd7d645-cfda-4f30-be00-b90a201dd836"
      },
      "execution_count": 10,
      "outputs": [
        {
          "output_type": "display_data",
          "data": {
            "text/plain": [
              "<Figure size 1000x800 with 4 Axes>"
            ],
            "image/png": "[encoded data removed]"
          },
          "metadata": {}
        }
      ]
    },
    {
      "cell_type": "code",
      "source": [
        "#no.2 a\n",
        "#Hipotesis:\n",
        "\n",
        "#𝐻0 : Tidak ada perbedaan signifikan dalam penggunaan kartu kredit sebelum dan satu bulan setelah kampanye.\n",
        "#𝐻1 : Ada perbedaan signifikan dalam penggunaan kartu kredit sebelum dan satu bulan setelah kampanye.\n",
        "\n",
        "from scipy.stats import ttest_rel\n",
        "\n",
        "\n",
        "t_stat, p_value = ttest_rel(df['pre_usage'], df['Post_usage_1month'])\n",
        "print(\"t-statistic:\", t_stat)\n",
        "print(\"p-value:\", p_value)\n",
        "\n",
        "# Kesimpulan\n",
        "alpha = 0.05\n",
        "if p_value < alpha:\n",
        "    print(\"Tolak H0: Ada perbedaan signifikan antara penggunaan sebelum dan 1 bulan setelah kampanye.\")\n",
        "else:\n",
        "    print(\"Gagal tolak H0: Tidak ada perbedaan signifikan antara penggunaan sebelum dan 1 bulan setelah kampanye.\")\n"
      ],
      "metadata": {
        "colab": {
          "base_uri": "https://localhost:8080/"
        },
        "id": "Ssm3I9jcKww_",
        "outputId": "fc64e34a-a39c-4283-dfd9-b06a110872b1"
      },
      "execution_count": 12,
      "outputs": [
        {
          "output_type": "stream",
          "name": "stdout",
          "text": [
            "t-statistic: -0.8673065458794775\n",
            "p-value: 0.3868186820914985\n",
            "Gagal tolak H0: Tidak ada perbedaan signifikan antara penggunaan sebelum dan 1 bulan setelah kampanye.\n"
          ]
        }
      ]
    },
    {
      "cell_type": "code",
      "source": [
        "#no.2 b\n",
        "#Hipotesisi:\n",
        "#H0 : Tidak ada perbedaan signifikan dalam penggunaan kartu kredit sebelum dan dua bulan setelah kampanye\n",
        "#H1 : Ada perbedaan signifikan dalam penggunakaan kartu kredit sebelum dan dua bulan setelah kampanye\n",
        "\n",
        "\n",
        "t_stat, p_value = ttest_rel(df['pre_usage'], df['post_usage_2ndmonth'])\n",
        "print(\"t-statistic:\", t_stat)\n",
        "print(\"p-value:\", p_value)\n",
        "\n",
        "#Kesimpulan\n",
        "if p_value < alpha:\n",
        "    print(\"Tolak H0: Ada perbedaan signifikan antara penggunaan sebelum dan 2 bulan setelah kampanye.\")\n",
        "else:\n",
        "    print(\"Gagal tolak H0: Tidak ada perbedaan signifikan antara penggunaan sebelum dan 2 bulan setelah kampanye.\")\n"
      ],
      "metadata": {
        "colab": {
          "base_uri": "https://localhost:8080/"
        },
        "id": "yTB_Z0BZLX1x",
        "outputId": "21026f67-c5ad-4321-f757-4343cc1f35ad"
      },
      "execution_count": 13,
      "outputs": [
        {
          "output_type": "stream",
          "name": "stdout",
          "text": [
            "t-statistic: -8.866832246938742\n",
            "p-value: 4.295733828012836e-16\n",
            "Tolak H0: Ada perbedaan signifikan antara penggunaan sebelum dan 2 bulan setelah kampanye.\n"
          ]
        }
      ]
    },
    {
      "cell_type": "code",
      "source": [
        "#no.3 a\n",
        "#Hipotesis :\n",
        "#H0 : Tidak ada perbedaan signifikan dalam penggunaan kartu kredit antara laki-laki dan perempuan satu bulan setelah kampanye\n",
        "#H1 : Ada perbedaan signifikan dalam penggunaan kartu kredit antara laki-laki dan perempuan satu bulan setelah kampanye\n",
        "\n",
        "from scipy.stats import ttest_ind\n",
        "\n",
        "male_usage_1month = df[df['sex'] == 0] ['Post_usage_1month']\n",
        "female_usage_1month = df[df['sex'] == 1] ['Post_usage_1month']\n",
        "\n",
        "t_stat, p_value = ttest_ind(male_usage_1month, female_usage_1month)\n",
        "print(\"t-statistic:\", t_stat)\n",
        "print(\"p-value:\", p_value)\n",
        "\n",
        "#Kesimpulan\n",
        "if p_value < alpha:\n",
        "    print(\"Tolak H0: Ada perbedaan signifikan antara penggunaan laki-laki dan perempuan satu bulan setelah kampanye.\")\n",
        "else:\n",
        "    print(\"Gagal tolak H0: Tidak ada perbedaan signifikan antara penggunaan laki-laki dan perempuan satu bulan setelah kampanye.\")"
      ],
      "metadata": {
        "colab": {
          "base_uri": "https://localhost:8080/"
        },
        "id": "_RZGBA0rMGnI",
        "outputId": "35be2881-34fc-4c14-e2c6-4d5675599a8c"
      },
      "execution_count": 14,
      "outputs": [
        {
          "output_type": "stream",
          "name": "stdout",
          "text": [
            "t-statistic: -3.7340738531536797\n",
            "p-value: 0.00024625461203549315\n",
            "Tolak H0: Ada perbedaan signifikan antara penggunaan laki-laki dan perempuan satu bulan setelah kampanye.\n"
          ]
        }
      ]
    },
    {
      "cell_type": "code",
      "source": [
        "#no.3 b\n",
        "#Hipotesis:\n",
        "\n",
        "#𝐻0 : Tidak ada perbedaan signifikan dalam penggunaan kartu kredit antara laki-laki dan perempuan dua bulan setelah kampanye.\n",
        "#𝐻1 : Ada perbedaan signifikan dalam penggunaan kartu kredit antara laki-laki dan perempuan dua bulan setelah kampanye\n",
        "\n",
        "# Mengelompokkan data untuk penggunaan dua bulan setelah kampanye\n",
        "male_usage_2month = df[df['sex'] == 0]['post_usage_2ndmonth']\n",
        "female_usage_2month = df[df['sex'] == 1]['post_usage_2ndmonth']\n",
        "\n",
        "# Uji hipotesis independent t-test\n",
        "t_stat, p_value = ttest_ind(male_usage_2month, female_usage_2month)\n",
        "print(\"t-statistic:\", t_stat)\n",
        "print(\"p-value:\", p_value)\n",
        "\n",
        "# Kesimpulan\n",
        "if p_value < alpha:\n",
        "    print(\"Tolak H0: Ada perbedaan signifikan antara penggunaan laki-laki dan perempuan 2 bulan setelah kampanye.\")\n",
        "else:\n",
        "    print(\"Gagal tolak H0: Tidak ada perbedaan signifikan antara penggunaan laki-laki dan perempuan 2 bulan setelah kampanye.\")\n"
      ],
      "metadata": {
        "colab": {
          "base_uri": "https://localhost:8080/"
        },
        "id": "6JQb6gcyNFHP",
        "outputId": "2c0d7300-09da-43d3-84e0-531b497692ad"
      },
      "execution_count": 15,
      "outputs": [
        {
          "output_type": "stream",
          "name": "stdout",
          "text": [
            "t-statistic: -3.7340738531536926\n",
            "p-value: 0.00024625461203548154\n",
            "Tolak H0: Ada perbedaan signifikan antara penggunaan laki-laki dan perempuan 2 bulan setelah kampanye.\n"
          ]
        }
      ]
    }
  ]
}